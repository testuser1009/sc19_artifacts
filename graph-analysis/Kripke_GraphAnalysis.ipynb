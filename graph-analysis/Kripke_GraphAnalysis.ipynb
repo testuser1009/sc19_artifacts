{
 "cells": [
  {
   "cell_type": "markdown",
   "metadata": {},
   "source": [
    "# Graph Analysis on sample data\n",
    "\n",
    "<p>For more details about the Gower distance:\n",
    "<a href=\"http://venus.unive.it/romanaz/modstat_ba/gowdis.pdf\">Gower, J.C., 1971, A General Coefficient of Similarity and Some of Its Properties</a>.</p>"
   ]
  },
  {
   "cell_type": "code",
   "execution_count": 1,
   "metadata": {
    "collapsed": false
   },
   "outputs": [
    {
     "name": "stdout",
     "output_type": "stream",
     "text": [
      "Populating the interactive namespace from numpy and matplotlib\n"
     ]
    }
   ],
   "source": [
    "%matplotlib inline\n",
    "%pylab inline"
   ]
  },
  {
   "cell_type": "code",
   "execution_count": 2,
   "metadata": {
    "collapsed": true
   },
   "outputs": [],
   "source": [
    "pylab.rcParams['figure.figsize'] = (10, 7)"
   ]
  },
  {
   "cell_type": "code",
   "execution_count": 3,
   "metadata": {
    "collapsed": true
   },
   "outputs": [],
   "source": [
    "import numpy as np\n",
    "import pandas as pd\n",
    "import sys\n",
    "import Gower as gow\n",
    "import matplotlib.pyplot as plt\n",
    "from timeit import default_timer as timer\n",
    "import networkx as nx\n",
    "import GraphConstruct as gc \n",
    "import GraphProcess as gp\n",
    "import scipy as sc\n",
    "from sklearn.preprocessing import minmax_scale"
   ]
  },
  {
   "cell_type": "code",
   "execution_count": 4,
   "metadata": {
    "collapsed": false
   },
   "outputs": [],
   "source": [
    "from Utilities import Utilities as utils"
   ]
  },
  {
   "cell_type": "markdown",
   "metadata": {},
   "source": [
    "## Import data"
   ]
  },
  {
   "cell_type": "code",
   "execution_count": 5,
   "metadata": {
    "collapsed": false
   },
   "outputs": [
    {
     "name": "stdout",
     "output_type": "stream",
     "text": [
      "(17815, 6) (17815, 1)\n"
     ]
    }
   ],
   "source": [
    "util = utils()\n",
    "filename = \"./sample.csv\"\n",
    "response = \"ExecTime\"\n",
    "X, y = util.load_data(filename, response)\n",
    "print X.shape, y.shape "
   ]
  },
  {
   "cell_type": "code",
   "execution_count": 6,
   "metadata": {
    "collapsed": false
   },
   "outputs": [
    {
     "data": {
      "text/html": [
       "<div>\n",
       "<style scoped>\n",
       "    .dataframe tbody tr th:only-of-type {\n",
       "        vertical-align: middle;\n",
       "    }\n",
       "\n",
       "    .dataframe tbody tr th {\n",
       "        vertical-align: top;\n",
       "    }\n",
       "\n",
       "    .dataframe thead th {\n",
       "        text-align: right;\n",
       "    }\n",
       "</style>\n",
       "<table border=\"1\" class=\"dataframe\">\n",
       "  <thead>\n",
       "    <tr style=\"text-align: right;\">\n",
       "      <th></th>\n",
       "      <th>Ranks</th>\n",
       "      <th>Nesting</th>\n",
       "      <th>Dset</th>\n",
       "      <th>Gset</th>\n",
       "      <th>OMP</th>\n",
       "      <th>PKG_LIMIT</th>\n",
       "      <th>ExecTime</th>\n",
       "    </tr>\n",
       "  </thead>\n",
       "  <tbody>\n",
       "    <tr>\n",
       "      <th>0</th>\n",
       "      <td>0.0833333</td>\n",
       "      <td>DGZ</td>\n",
       "      <td>0.25</td>\n",
       "      <td>0.03125</td>\n",
       "      <td>0.333333</td>\n",
       "      <td>0.5</td>\n",
       "      <td>7.6394</td>\n",
       "    </tr>\n",
       "    <tr>\n",
       "      <th>1</th>\n",
       "      <td>0.0833333</td>\n",
       "      <td>DGZ</td>\n",
       "      <td>0.25</td>\n",
       "      <td>0.03125</td>\n",
       "      <td>0.333333</td>\n",
       "      <td>0.55</td>\n",
       "      <td>6.0149</td>\n",
       "    </tr>\n",
       "    <tr>\n",
       "      <th>2</th>\n",
       "      <td>0.0833333</td>\n",
       "      <td>DGZ</td>\n",
       "      <td>0.25</td>\n",
       "      <td>0.03125</td>\n",
       "      <td>0.333333</td>\n",
       "      <td>0.6</td>\n",
       "      <td>5.4116</td>\n",
       "    </tr>\n",
       "    <tr>\n",
       "      <th>3</th>\n",
       "      <td>0.0833333</td>\n",
       "      <td>DGZ</td>\n",
       "      <td>0.25</td>\n",
       "      <td>0.03125</td>\n",
       "      <td>0.333333</td>\n",
       "      <td>0.65</td>\n",
       "      <td>4.8056</td>\n",
       "    </tr>\n",
       "    <tr>\n",
       "      <th>4</th>\n",
       "      <td>0.0833333</td>\n",
       "      <td>DGZ</td>\n",
       "      <td>0.25</td>\n",
       "      <td>0.03125</td>\n",
       "      <td>0.333333</td>\n",
       "      <td>0.7</td>\n",
       "      <td>4.6053</td>\n",
       "    </tr>\n",
       "  </tbody>\n",
       "</table>\n",
       "</div>"
      ],
      "text/plain": [
       "       Ranks Nesting  Dset     Gset       OMP PKG_LIMIT  ExecTime\n",
       "0  0.0833333     DGZ  0.25  0.03125  0.333333       0.5    7.6394\n",
       "1  0.0833333     DGZ  0.25  0.03125  0.333333      0.55    6.0149\n",
       "2  0.0833333     DGZ  0.25  0.03125  0.333333       0.6    5.4116\n",
       "3  0.0833333     DGZ  0.25  0.03125  0.333333      0.65    4.8056\n",
       "4  0.0833333     DGZ  0.25  0.03125  0.333333       0.7    4.6053"
      ]
     },
     "execution_count": 6,
     "metadata": {},
     "output_type": "execute_result"
    }
   ],
   "source": [
    "data_pd = util.data_norm(X, y, feats_drop=None, response_name='ExecTime', response_norm=False)\n",
    "data_pd.head()"
   ]
  },
  {
   "cell_type": "code",
   "execution_count": 7,
   "metadata": {
    "collapsed": false
   },
   "outputs": [
    {
     "data": {
      "text/plain": [
       "Ranks         object\n",
       "Nesting       object\n",
       "Dset          object\n",
       "Gset          object\n",
       "OMP           object\n",
       "PKG_LIMIT     object\n",
       "ExecTime     float64\n",
       "dtype: object"
      ]
     },
     "execution_count": 7,
     "metadata": {},
     "output_type": "execute_result"
    }
   ],
   "source": [
    "data_pd.dtypes # Datatypes of the features"
   ]
  },
  {
   "cell_type": "code",
   "execution_count": 8,
   "metadata": {
    "collapsed": true
   },
   "outputs": [],
   "source": [
    "# Convert datatypes of a few features to float \n",
    "data_new = util.convert_pd_dtype(data_pd, ['PKG_LIMIT', 'OMP', 'Ranks', 'ExecTime'], totype='float64')"
   ]
  },
  {
   "cell_type": "code",
   "execution_count": 9,
   "metadata": {
    "collapsed": false
   },
   "outputs": [
    {
     "name": "stdout",
     "output_type": "stream",
     "text": [
      "Ranks        float64\n",
      "Nesting       object\n",
      "Dset          object\n",
      "Gset          object\n",
      "OMP          float64\n",
      "PKG_LIMIT    float64\n",
      "ExecTime     float64\n",
      "dtype: object\n",
      "(17815, 7)\n"
     ]
    },
    {
     "data": {
      "text/html": [
       "<div>\n",
       "<style scoped>\n",
       "    .dataframe tbody tr th:only-of-type {\n",
       "        vertical-align: middle;\n",
       "    }\n",
       "\n",
       "    .dataframe tbody tr th {\n",
       "        vertical-align: top;\n",
       "    }\n",
       "\n",
       "    .dataframe thead th {\n",
       "        text-align: right;\n",
       "    }\n",
       "</style>\n",
       "<table border=\"1\" class=\"dataframe\">\n",
       "  <thead>\n",
       "    <tr style=\"text-align: right;\">\n",
       "      <th></th>\n",
       "      <th>Ranks</th>\n",
       "      <th>Nesting</th>\n",
       "      <th>Dset</th>\n",
       "      <th>Gset</th>\n",
       "      <th>OMP</th>\n",
       "      <th>PKG_LIMIT</th>\n",
       "      <th>ExecTime</th>\n",
       "    </tr>\n",
       "  </thead>\n",
       "  <tbody>\n",
       "    <tr>\n",
       "      <th>0</th>\n",
       "      <td>0.083333</td>\n",
       "      <td>DGZ</td>\n",
       "      <td>0.25</td>\n",
       "      <td>0.03125</td>\n",
       "      <td>0.333333</td>\n",
       "      <td>0.50</td>\n",
       "      <td>7.6394</td>\n",
       "    </tr>\n",
       "    <tr>\n",
       "      <th>1</th>\n",
       "      <td>0.083333</td>\n",
       "      <td>DGZ</td>\n",
       "      <td>0.25</td>\n",
       "      <td>0.03125</td>\n",
       "      <td>0.333333</td>\n",
       "      <td>0.55</td>\n",
       "      <td>6.0149</td>\n",
       "    </tr>\n",
       "    <tr>\n",
       "      <th>2</th>\n",
       "      <td>0.083333</td>\n",
       "      <td>DGZ</td>\n",
       "      <td>0.25</td>\n",
       "      <td>0.03125</td>\n",
       "      <td>0.333333</td>\n",
       "      <td>0.60</td>\n",
       "      <td>5.4116</td>\n",
       "    </tr>\n",
       "    <tr>\n",
       "      <th>3</th>\n",
       "      <td>0.083333</td>\n",
       "      <td>DGZ</td>\n",
       "      <td>0.25</td>\n",
       "      <td>0.03125</td>\n",
       "      <td>0.333333</td>\n",
       "      <td>0.65</td>\n",
       "      <td>4.8056</td>\n",
       "    </tr>\n",
       "    <tr>\n",
       "      <th>4</th>\n",
       "      <td>0.083333</td>\n",
       "      <td>DGZ</td>\n",
       "      <td>0.25</td>\n",
       "      <td>0.03125</td>\n",
       "      <td>0.333333</td>\n",
       "      <td>0.70</td>\n",
       "      <td>4.6053</td>\n",
       "    </tr>\n",
       "  </tbody>\n",
       "</table>\n",
       "</div>"
      ],
      "text/plain": [
       "      Ranks Nesting  Dset     Gset       OMP  PKG_LIMIT  ExecTime\n",
       "0  0.083333     DGZ  0.25  0.03125  0.333333       0.50    7.6394\n",
       "1  0.083333     DGZ  0.25  0.03125  0.333333       0.55    6.0149\n",
       "2  0.083333     DGZ  0.25  0.03125  0.333333       0.60    5.4116\n",
       "3  0.083333     DGZ  0.25  0.03125  0.333333       0.65    4.8056\n",
       "4  0.083333     DGZ  0.25  0.03125  0.333333       0.70    4.6053"
      ]
     },
     "execution_count": 9,
     "metadata": {},
     "output_type": "execute_result"
    }
   ],
   "source": [
    "# Verify conversion and check shape of the dataframe\n",
    "print data_new.dtypes\n",
    "print data_new.shape\n",
    "data_new.head()"
   ]
  },
  {
   "cell_type": "markdown",
   "metadata": {},
   "source": [
    "## Graph Analysis"
   ]
  },
  {
   "cell_type": "code",
   "execution_count": 10,
   "metadata": {
    "collapsed": false
   },
   "outputs": [
    {
     "name": "stdout",
     "output_type": "stream",
     "text": [
      "Initalized object\n"
     ]
    }
   ],
   "source": [
    "# Create a GraphProcess object to call relevant functions\n",
    "gp_obj = gp.GraphProcess()"
   ]
  },
  {
   "cell_type": "markdown",
   "metadata": {},
   "source": [
    "### Using Gower distance"
   ]
  },
  {
   "cell_type": "code",
   "execution_count": 11,
   "metadata": {
    "collapsed": false,
    "scrolled": true
   },
   "outputs": [
    {
     "name": "stdout",
     "output_type": "stream",
     "text": [
      "Data sample shape: (1782, 7)\n",
      "Computing feature sensitivities for features:\n",
      "0 1 2 3 4 5 \n",
      "\n",
      "Plotting feature sensitivity - In the order of decreasing feature importance:\n"
     ]
    },
    {
     "data": {
      "image/png": "[encoded data removed]",
      "text/plain": [
       "<Figure size 1000x700 with 1 Axes>"
      ]
     },
     "metadata": {},
     "output_type": "display_data"
    },
    {
     "name": "stdout",
     "output_type": "stream",
     "text": [
      "\n",
      "\n",
      "Computing and Plotting the Fourier Spectrum\n"
     ]
    },
    {
     "data": {
      "image/png": "[encoded data removed]",
      "text/plain": [
       "<Figure size 1000x700 with 1 Axes>"
      ]
     },
     "metadata": {},
     "output_type": "display_data"
    },
    {
     "name": "stdout",
     "output_type": "stream",
     "text": [
      "\n",
      "Time elapsed =  109.03788209 seconds\n"
     ]
    }
   ],
   "source": [
    "start = timer()\n",
    "n_feat = data_new.shape[1]-1\n",
    "\n",
    "data_sample, spectral_error, xf, U = gp_obj.graph_analysis(data_new.iloc[:, :n_feat], \n",
    "                                                           data_new.iloc[:, n_feat], \n",
    "                                                    k_neighb=10, sample_frac=0.1, freq = 50, distance='Gower',\\\n",
    "                                                    drop_together = None, noise=0.01)\n",
    "end = timer()\n",
    "print \"\\nTime elapsed = \", (end-start), \"seconds\""
   ]
  }
 ],
 "metadata": {
  "anaconda-cloud": {},
  "kernelspec": {
   "display_name": "Python [Root]",
   "language": "python",
   "name": "Python [Root]"
  },
  "language_info": {
   "codemirror_mode": {
    "name": "ipython",
    "version": 2
   },
   "file_extension": ".py",
   "mimetype": "text/x-python",
   "name": "python",
   "nbconvert_exporter": "python",
   "pygments_lexer": "ipython2",
   "version": "2.7.11"
  }
 },
 "nbformat": 4,
 "nbformat_minor": 1
}
